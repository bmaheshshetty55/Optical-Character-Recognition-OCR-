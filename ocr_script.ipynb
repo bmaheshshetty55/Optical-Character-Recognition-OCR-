{
 "cells": [
  {
   "cell_type": "code",
   "execution_count": 1,
   "metadata": {},
   "outputs": [
    {
     "name": "stdout",
     "output_type": "stream",
     "text": [
      "Requirement already satisfied: tabula-py in c:\\users\\asus\\anaconda3\\lib\\site-packages (2.10.0)\n",
      "Requirement already satisfied: pandas in c:\\users\\asus\\anaconda3\\lib\\site-packages (2.2.2)\n",
      "Requirement already satisfied: openpyxl in c:\\users\\asus\\anaconda3\\lib\\site-packages (3.1.2)\n",
      "Requirement already satisfied: numpy>1.24.4 in c:\\users\\asus\\anaconda3\\lib\\site-packages (from tabula-py) (1.26.4)\n",
      "Requirement already satisfied: distro in c:\\users\\asus\\anaconda3\\lib\\site-packages (from tabula-py) (1.9.0)\n",
      "Requirement already satisfied: python-dateutil>=2.8.2 in c:\\users\\asus\\appdata\\roaming\\python\\python311\\site-packages (from pandas) (2.9.0.post0)\n",
      "Requirement already satisfied: pytz>=2020.1 in c:\\users\\asus\\anaconda3\\lib\\site-packages (from pandas) (2024.1)\n",
      "Requirement already satisfied: tzdata>=2022.7 in c:\\users\\asus\\anaconda3\\lib\\site-packages (from pandas) (2023.3)\n",
      "Requirement already satisfied: et-xmlfile in c:\\users\\asus\\anaconda3\\lib\\site-packages (from openpyxl) (1.1.0)\n",
      "Requirement already satisfied: six>=1.5 in c:\\users\\asus\\appdata\\roaming\\python\\python311\\site-packages (from python-dateutil>=2.8.2->pandas) (1.16.0)\n",
      "Note: you may need to restart the kernel to use updated packages.\n"
     ]
    },
    {
     "name": "stderr",
     "output_type": "stream",
     "text": [
      "\n",
      "[notice] A new release of pip is available: 24.1.2 -> 25.0\n",
      "[notice] To update, run: python.exe -m pip install --upgrade pip\n"
     ]
    }
   ],
   "source": [
    "pip install tabula-py pandas openpyxl\n"
   ]
  },
  {
   "cell_type": "markdown",
   "metadata": {},
   "source": []
  },
  {
   "cell_type": "code",
   "execution_count": null,
   "metadata": {},
   "outputs": [],
   "source": [
    "# WHY TABULA??\n",
    "'''  \n",
    "Tabula is a popular open-source tool used for extracting data from tables in PDF documents. \n",
    "It's specifically useful for PDFs that contain selectable text (not scanned images).\n",
    "In the given PDF, we had selectable text, which made it an ideal candidate for Tabula.\n",
    "The tool works by identifying and extracting the tabular data based on the structure of the PDF,\n",
    "making it easy to convert this information into CSV, Excel, or other structured formats.\n",
    "It's particularly efficient when you need to process tables with a clear layout, \n",
    "as it can preserve the organization of rows and columns without the need for complex manual extraction. \n",
    "'''"
   ]
  },
  {
   "cell_type": "code",
   "execution_count": 2,
   "metadata": {},
   "outputs": [
    {
     "name": "stdout",
     "output_type": "stream",
     "text": [
      "Extracting tables from cardio_structured.pdf, Page 6...\n",
      "Tables found and extracted from cardio_structured.pdf, Page 6\n",
      "Extracting tables from prot_sap_102.pdf, Page 50...\n",
      "Tables found and extracted from prot_sap_102.pdf, Page 50\n",
      "Extracting tables from prot_sap_1.pdf, Page 14...\n",
      "Tables found and extracted from prot_sap_1.pdf, Page 14\n",
      "Tables have been successfully saved to maiora_extracted_data.xlsx\n"
     ]
    }
   ],
   "source": [
    "import os\n",
    "import pandas as pd\n",
    "from tabula import read_pdf\n",
    "from openpyxl import Workbook\n",
    "\n",
    "# Function to retrieve tables from a specific PDF page\n",
    "def get_tables_from_pdf(pdf_file_path, page_num):\n",
    "    try:\n",
    "        tables = read_pdf(pdf_file_path, pages=page_num, multiple_tables=True)  # Extract tables from the page\n",
    "        return tables if tables else None  # Return the tables if present, otherwise None\n",
    "    except Exception as err:\n",
    "        print(f\"Failed to extract table from {pdf_file_path}, Page {page_num}: {err}\")\n",
    "        return None\n",
    "\n",
    "# Function to store the tables in an Excel file\n",
    "def store_in_excel(tables_collection, excel_file):\n",
    "    with pd.ExcelWriter(excel_file, engine='openpyxl') as writer:\n",
    "        for pdf_file, tables in tables_collection.items():\n",
    "            for idx, table in enumerate(tables):\n",
    "                sheet_name = f\"{pdf_file}_Page{idx+1}\"  # Sheet name for each table\n",
    "                table.to_excel(writer, sheet_name=sheet_name, index=False)  # Save the table\n",
    "    print(f\"Tables have been successfully saved to {excel_file}\")\n",
    "\n",
    "# List of PDFs with their respective pages to extract data from\n",
    "pdf_documents = {\n",
    "    \"cardio_structured.pdf\": 6,\n",
    "    \"prot_sap_102.pdf\": 50,\n",
    "    \"prot_sap_1.pdf\": 14\n",
    "}\n",
    "\n",
    "# Dictionary to hold the extracted tables\n",
    "tables_dict = {}\n",
    "\n",
    "# Extract tables from each PDF as specified\n",
    "for pdf_file, page_num in pdf_documents.items():\n",
    "    print(f\"Extracting tables from {pdf_file}, Page {page_num}...\")\n",
    "    tables = get_tables_from_pdf(pdf_file, page_num)  # Retrieve tables from the page\n",
    "    if tables:\n",
    "        tables_dict[pdf_file] = tables  # Store the extracted tables\n",
    "        print(f\"Tables found and extracted from {pdf_file}, Page {page_num}\")\n",
    "    else:\n",
    "        print(f\"No tables found in {pdf_file}, Page {page_num}\")\n",
    "\n",
    "# If any tables were extracted, save them to an Excel file\n",
    "output_file_path = \"maiora_extracted_data.xlsx\"\n",
    "if tables_dict:\n",
    "    store_in_excel(tables_dict, output_file_path)\n",
    "else:\n",
    "    print(\"No tables were extracted. No Excel file created.\")\n"
   ]
  },
  {
   "cell_type": "code",
   "execution_count": null,
   "metadata": {},
   "outputs": [],
   "source": []
  }
 ],
 "metadata": {
  "kernelspec": {
   "display_name": "base",
   "language": "python",
   "name": "python3"
  },
  "language_info": {
   "codemirror_mode": {
    "name": "ipython",
    "version": 3
   },
   "file_extension": ".py",
   "mimetype": "text/x-python",
   "name": "python",
   "nbconvert_exporter": "python",
   "pygments_lexer": "ipython3",
   "version": "3.11.5"
  }
 },
 "nbformat": 4,
 "nbformat_minor": 2
}
