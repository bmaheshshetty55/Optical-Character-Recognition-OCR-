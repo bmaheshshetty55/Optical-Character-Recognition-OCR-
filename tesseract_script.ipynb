{
 "cells": [
  {
   "cell_type": "code",
   "execution_count": null,
   "metadata": {},
   "outputs": [],
   "source": [
    "''' \n",
    "\n",
    "Not just tabula, I have also used Tesseract OCR along with pdfplumber\n",
    "to extract tables from the specified PDF pages. \n",
    "The process first attempts to extract tables using pdfplumber, \n",
    "which works well for PDFs with structured and selectable text. \n",
    "If no tables are detected, the page is converted into an image using pdf2image,\n",
    "preprocessed with OpenCV for enhanced clarity, and then processed using \n",
    "Tesseract OCR to extract text from scanned pages. After performing OCR,\n",
    "the extracted data is structured into a DataFrame and saved in an Excel file, \n",
    "following the format provided in sample.xlsx. \n",
    "This approach ensures accurate extraction while preserving the table structure and layout.\n",
    "\n",
    "'''"
   ]
  },
  {
   "cell_type": "code",
   "execution_count": 1,
   "metadata": {},
   "outputs": [
    {
     "name": "stdout",
     "output_type": "stream",
     "text": [
      "Requirement already satisfied: pdfplumber in c:\\users\\asus\\anaconda3\\lib\\site-packages (0.11.5)\n",
      "Requirement already satisfied: pytesseract in c:\\users\\asus\\anaconda3\\lib\\site-packages (0.3.13)\n",
      "Requirement already satisfied: pdf2image in c:\\users\\asus\\anaconda3\\lib\\site-packages (1.17.0)\n",
      "Requirement already satisfied: pillow in c:\\users\\asus\\anaconda3\\lib\\site-packages (10.4.0)\n",
      "Requirement already satisfied: pandas in c:\\users\\asus\\anaconda3\\lib\\site-packages (2.2.2)\n",
      "Requirement already satisfied: openpyxl in c:\\users\\asus\\anaconda3\\lib\\site-packages (3.1.2)\n",
      "Requirement already satisfied: opencv-python in c:\\users\\asus\\anaconda3\\lib\\site-packages (4.10.0.84)\n",
      "Requirement already satisfied: numpy in c:\\users\\asus\\anaconda3\\lib\\site-packages (1.26.4)\n",
      "Requirement already satisfied: pdfminer.six==20231228 in c:\\users\\asus\\anaconda3\\lib\\site-packages (from pdfplumber) (20231228)\n",
      "Requirement already satisfied: pypdfium2>=4.18.0 in c:\\users\\asus\\anaconda3\\lib\\site-packages (from pdfplumber) (4.30.1)\n",
      "Requirement already satisfied: charset-normalizer>=2.0.0 in c:\\users\\asus\\anaconda3\\lib\\site-packages (from pdfminer.six==20231228->pdfplumber) (2.0.4)\n",
      "Requirement already satisfied: cryptography>=36.0.0 in c:\\users\\asus\\anaconda3\\lib\\site-packages (from pdfminer.six==20231228->pdfplumber) (42.0.5)\n",
      "Requirement already satisfied: packaging>=21.3 in c:\\users\\asus\\appdata\\roaming\\python\\python311\\site-packages (from pytesseract) (24.1)\n",
      "Requirement already satisfied: python-dateutil>=2.8.2 in c:\\users\\asus\\appdata\\roaming\\python\\python311\\site-packages (from pandas) (2.9.0.post0)\n",
      "Requirement already satisfied: pytz>=2020.1 in c:\\users\\asus\\anaconda3\\lib\\site-packages (from pandas) (2024.1)\n",
      "Requirement already satisfied: tzdata>=2022.7 in c:\\users\\asus\\anaconda3\\lib\\site-packages (from pandas) (2023.3)\n",
      "Requirement already satisfied: et-xmlfile in c:\\users\\asus\\anaconda3\\lib\\site-packages (from openpyxl) (1.1.0)\n",
      "Requirement already satisfied: six>=1.5 in c:\\users\\asus\\appdata\\roaming\\python\\python311\\site-packages (from python-dateutil>=2.8.2->pandas) (1.16.0)\n",
      "Requirement already satisfied: cffi>=1.12 in c:\\users\\asus\\anaconda3\\lib\\site-packages (from cryptography>=36.0.0->pdfminer.six==20231228->pdfplumber) (1.16.0)\n",
      "Requirement already satisfied: pycparser in c:\\users\\asus\\anaconda3\\lib\\site-packages (from cffi>=1.12->cryptography>=36.0.0->pdfminer.six==20231228->pdfplumber) (2.21)\n",
      "Note: you may need to restart the kernel to use updated packages.\n"
     ]
    },
    {
     "name": "stderr",
     "output_type": "stream",
     "text": [
      "\n",
      "[notice] A new release of pip is available: 24.1.2 -> 25.0\n",
      "[notice] To update, run: python.exe -m pip install --upgrade pip\n"
     ]
    }
   ],
   "source": [
    "pip install pdfplumber pytesseract pdf2image pillow pandas openpyxl opencv-python numpy\n"
   ]
  },
  {
   "cell_type": "code",
   "execution_count": 2,
   "metadata": {},
   "outputs": [
    {
     "name": "stdout",
     "output_type": "stream",
     "text": [
      "Processing D:\\Maiora\\cardio_structured.pdf - Page 6...\n"
     ]
    },
    {
     "name": "stderr",
     "output_type": "stream",
     "text": [
      "c:\\Users\\asus\\anaconda3\\Lib\\site-packages\\openpyxl\\workbook\\child.py:99: UserWarning: Title is more than 31 characters. Some applications may not be able to read the file\n",
      "  warnings.warn(\"Title is more than 31 characters. Some applications may not be able to read the file\")\n"
     ]
    },
    {
     "name": "stdout",
     "output_type": "stream",
     "text": [
      "Processing D:\\Maiora\\prot_sap_102.pdf - Page 50...\n",
      "Processing D:\\Maiora\\prot_sap_1.pdf - Page 14...\n",
      "Extraction completed! Saved as D:\\Maiora\\extracted_tables.xlsx\n"
     ]
    }
   ],
   "source": [
    "import pdfplumber\n",
    "import pandas as pd\n",
    "import pytesseract\n",
    "from pdf2image import convert_from_path\n",
    "import cv2\n",
    "import numpy as np\n",
    "import re\n",
    "\n",
    "# Set the correct Tesseract OCR path\n",
    "pytesseract.pytesseract.tesseract_cmd = r\"C:\\Program Files\\Tesseract-OCR\\tesseract.exe\"\n",
    "\n",
    "# Define PDFs and pages for OCR\n",
    "pdf_files = {\n",
    "    \"D:\\\\Maiora\\\\cardio_structured.pdf\": 6,\n",
    "    \"D:\\\\Maiora\\\\prot_sap_102.pdf\": 50,\n",
    "    \"D:\\\\Maiora\\\\prot_sap_1.pdf\": 14\n",
    "}\n",
    "\n",
    "output_file = \"D:\\\\Maiora\\\\extracted_tables.xlsx\"\n",
    "writer = pd.ExcelWriter(output_file, engine='openpyxl')\n",
    "\n",
    "# Function to sanitize sheet names\n",
    "def sanitize_sheet_name(name):\n",
    "    # Replace invalid characters with underscores\n",
    "    return re.sub(r'[\\\\/:*?\"<>|\\[\\]]', '_', name)\n",
    "\n",
    "# Function to extract tables from a PDF using pdfplumber\n",
    "def extract_tables_from_pdf(pdf_path, page_number):\n",
    "    tables_data = []\n",
    "    with pdfplumber.open(pdf_path) as pdf:\n",
    "        page = pdf.pages[page_number - 1]  # Pages are zero-indexed\n",
    "        tables = page.extract_tables()\n",
    "        for table in tables:\n",
    "            df = pd.DataFrame(table)  # Convert table to DataFrame\n",
    "            tables_data.append(df)\n",
    "    return tables_data\n",
    "\n",
    "# Function to preprocess images for OCR\n",
    "def preprocess_image(image):\n",
    "    gray = cv2.cvtColor(np.array(image), cv2.COLOR_RGB2GRAY)  # Convert to grayscale\n",
    "    gray = cv2.adaptiveThreshold(gray, 255, cv2.ADAPTIVE_THRESH_GAUSSIAN_C, cv2.THRESH_BINARY, 11, 2)  # Thresholding\n",
    "    gray = cv2.resize(gray, None, fx=2, fy=2, interpolation=cv2.INTER_CUBIC)  # Resize for better text recognition\n",
    "    return gray\n",
    "\n",
    "# Function to perform OCR on a PDF page\n",
    "def perform_ocr_on_page(pdf_path, page_number):\n",
    "    images = convert_from_path(pdf_path, first_page=page_number, last_page=page_number)\n",
    "    extracted_text = []\n",
    "    for image in images:\n",
    "        processed_img = preprocess_image(image)\n",
    "        text = pytesseract.image_to_string(processed_img, config=\"--psm 6\")\n",
    "        extracted_text.append(text)\n",
    "    return \"\\n\".join(extracted_text)\n",
    "\n",
    "# Process each PDF file\n",
    "for pdf_name, page_number in pdf_files.items():\n",
    "    print(f\"Processing {pdf_name} - Page {page_number}...\")\n",
    "    pdf_path = pdf_name  \n",
    "\n",
    "    # Try extracting tables first\n",
    "    tables = extract_tables_from_pdf(pdf_path, page_number)\n",
    "\n",
    "    if tables:\n",
    "        for i, table in enumerate(tables):\n",
    "            # Sanitize the sheet name\n",
    "            sanitized_sheet_name = sanitize_sheet_name(f\"{pdf_name}_Page{page_number}_Table{i+1}\")\n",
    "            table.to_excel(writer, sheet_name=sanitized_sheet_name, index=False)\n",
    "    else:\n",
    "        # If no tables are found, use OCR\n",
    "        extracted_text = perform_ocr_on_page(pdf_path, page_number)\n",
    "        df_text = pd.DataFrame([extracted_text.split(\"\\n\")])  # Convert text into a DataFrame\n",
    "        # Sanitize the sheet name\n",
    "        sanitized_sheet_name = sanitize_sheet_name(f\"{pdf_name}_Page{page_number}_OCR\")\n",
    "        df_text.to_excel(writer, sheet_name=sanitized_sheet_name, index=False)\n",
    "\n",
    "writer.close()\n",
    "print(f\"Extraction completed! Saved as {output_file}\")"
   ]
  },
  {
   "cell_type": "code",
   "execution_count": null,
   "metadata": {},
   "outputs": [],
   "source": []
  }
 ],
 "metadata": {
  "kernelspec": {
   "display_name": "base",
   "language": "python",
   "name": "python3"
  },
  "language_info": {
   "codemirror_mode": {
    "name": "ipython",
    "version": 3
   },
   "file_extension": ".py",
   "mimetype": "text/x-python",
   "name": "python",
   "nbconvert_exporter": "python",
   "pygments_lexer": "ipython3",
   "version": "3.11.5"
  }
 },
 "nbformat": 4,
 "nbformat_minor": 2
}
